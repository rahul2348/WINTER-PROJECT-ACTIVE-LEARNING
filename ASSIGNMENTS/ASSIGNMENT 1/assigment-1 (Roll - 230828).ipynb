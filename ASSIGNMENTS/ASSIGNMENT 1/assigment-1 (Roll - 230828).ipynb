{
 "cells": [
  {
   "cell_type": "code",
   "execution_count": 1,
   "id": "10edc559",
   "metadata": {},
   "outputs": [],
   "source": [
    "import numpy as np"
   ]
  },
  {
   "cell_type": "code",
   "execution_count": 2,
   "id": "76d5a9e2",
   "metadata": {},
   "outputs": [],
   "source": [
    "import pandas as pd"
   ]
  },
  {
   "cell_type": "markdown",
   "id": "d60b01b9",
   "metadata": {},
   "source": [
    "#q-1"
   ]
  },
  {
   "cell_type": "code",
   "execution_count": 3,
   "id": "3f31c191",
   "metadata": {},
   "outputs": [],
   "source": [
    "def fib(n):\n",
    "    if n <= 0:\n",
    "        return []\n",
    "    elif n == 1:\n",
    "        return [0]\n",
    "    elif n == 2:\n",
    "        return [0, 1]\n",
    "    \n",
    "    fib_sequence = [0, 1]\n",
    "    for _ in range(2, n):\n",
    "        fib_sequence.append(fib_sequence[-1] + fib_sequence[-2])\n",
    "    \n",
    "    return fib_sequence\n"
   ]
  },
  {
   "cell_type": "code",
   "execution_count": 4,
   "id": "4d16a8cb",
   "metadata": {},
   "outputs": [
    {
     "name": "stdout",
     "output_type": "stream",
     "text": [
      "First 10 Fibonacci numbers: [0, 1, 1, 2, 3, 5, 8, 13, 21, 34]\n"
     ]
    }
   ],
   "source": [
    "N = 10\n",
    "fibonacci_numbers = fib(N)\n",
    "print(f\"First {N} Fibonacci numbers: {fibonacci_numbers}\")\n"
   ]
  },
  {
   "cell_type": "markdown",
   "id": "c01fcc8e",
   "metadata": {},
   "source": [
    "q-2"
   ]
  },
  {
   "cell_type": "code",
   "execution_count": 5,
   "id": "b9f68cbc",
   "metadata": {},
   "outputs": [],
   "source": [
    "squares = [x**2 for x in range(1, 21)]"
   ]
  },
  {
   "cell_type": "code",
   "execution_count": 6,
   "id": "407de039",
   "metadata": {},
   "outputs": [],
   "source": [
    "cubes = {x: x**3 for x in range(1, 11)}"
   ]
  },
  {
   "cell_type": "code",
   "execution_count": 7,
   "id": "980034a4",
   "metadata": {},
   "outputs": [
    {
     "name": "stdout",
     "output_type": "stream",
     "text": [
      "Squares from 1 to 20: [1, 4, 9, 16, 25, 36, 49, 64, 81, 100, 121, 144, 169, 196, 225, 256, 289, 324, 361, 400]\n",
      "Cubes from 1 to 10: {1: 1, 2: 8, 3: 27, 4: 64, 5: 125, 6: 216, 7: 343, 8: 512, 9: 729, 10: 1000}\n"
     ]
    }
   ],
   "source": [
    "print(f\"Squares from 1 to 20: {squares}\")\n",
    "print(f\"Cubes from 1 to 10: {cubes}\")"
   ]
  },
  {
   "cell_type": "markdown",
   "id": "63f96148",
   "metadata": {},
   "source": [
    "q-3"
   ]
  },
  {
   "cell_type": "code",
   "execution_count": 8,
   "id": "f7501a83",
   "metadata": {},
   "outputs": [
    {
     "name": "stdout",
     "output_type": "stream",
     "text": [
      "Rows where Score > 75:\n",
      "['Alice', '25', '80']\n",
      "['Charlie', '22', '90']\n",
      "['Eve', '24', '85']\n"
     ]
    }
   ],
   "source": [
    "import csv\n",
    "with open('data.csv', mode='w', newline='') as file:\n",
    "    writer = csv.writer(file)\n",
    "    writer.writerow(['Name', 'Age', 'Score'])\n",
    "    writer.writerows([\n",
    "        ['Alice', 25, 80],\n",
    "        ['Bob', 30, 70],\n",
    "        ['Charlie', 22, 90],\n",
    "        ['David', 27, 65],\n",
    "        ['Eve', 24, 85]\n",
    "    ])\n",
    "\n",
    "with open('data.csv', mode='r') as file:\n",
    "    reader = csv.reader(file)\n",
    "    header = next(reader)\n",
    "    print(f\"Rows where Score > 75:\")\n",
    "    for row in reader:\n",
    "        if int(row[2]) > 75:  \n",
    "            print(row)\n"
   ]
  },
  {
   "cell_type": "markdown",
   "id": "b06dc92d",
   "metadata": {},
   "source": [
    "q-4"
   ]
  },
  {
   "cell_type": "code",
   "execution_count": 9,
   "id": "e8cb8a14",
   "metadata": {},
   "outputs": [],
   "source": [
    "array = np.random.randint(10, 100, 25)\n",
    "\n",
    "max_value = array.max()\n",
    "min_value = array.min()\n",
    "max_index = array.argmax()\n",
    "min_index = array.argmin()\n",
    "\n",
    "array_with_replaced_odds = np.where(array % 2 != 0, -1, array)"
   ]
  },
  {
   "cell_type": "code",
   "execution_count": 10,
   "id": "1584fe62",
   "metadata": {},
   "outputs": [
    {
     "name": "stdout",
     "output_type": "stream",
     "text": [
      "Original array: [11 99 18 93 59 19 21 86 90 19 25 26 67 57 32 20 48 38 76 94 21 99 97 30\n",
      " 74]\n",
      "Maximum value: 99, Index: 1\n",
      "Minimum value: 11, Index: 0\n",
      "Array after replacing odd numbers with -1: [-1 -1 18 -1 -1 -1 -1 86 90 -1 -1 26 -1 -1 32 20 48 38 76 94 -1 -1 -1 30\n",
      " 74]\n"
     ]
    }
   ],
   "source": [
    "print(f\"Original array: {array}\")\n",
    "print(f\"Maximum value: {max_value}, Index: {max_index}\")\n",
    "print(f\"Minimum value: {min_value}, Index: {min_index}\")\n",
    "print(f\"Array after replacing odd numbers with -1: {array_with_replaced_odds}\")"
   ]
  },
  {
   "cell_type": "markdown",
   "id": "f8a5fefd",
   "metadata": {},
   "source": [
    "q-5"
   ]
  },
  {
   "cell_type": "code",
   "execution_count": 11,
   "id": "3686da5f",
   "metadata": {},
   "outputs": [],
   "source": [
    "matrix = np.random.randint(1, 101, (5, 5))"
   ]
  },
  {
   "cell_type": "code",
   "execution_count": 12,
   "id": "203c9080",
   "metadata": {},
   "outputs": [],
   "source": [
    "diagonal_elements = np.diag(matrix)\n"
   ]
  },
  {
   "cell_type": "code",
   "execution_count": 13,
   "id": "bade75fb",
   "metadata": {},
   "outputs": [],
   "source": [
    "sum_above_diagonal = np.sum(np.triu(matrix, k=1))"
   ]
  },
  {
   "cell_type": "code",
   "execution_count": 14,
   "id": "0aad3a2d",
   "metadata": {},
   "outputs": [
    {
     "name": "stdout",
     "output_type": "stream",
     "text": [
      "Matrix:\n",
      "[[ 66  56  68  24   1]\n",
      " [ 76  68  52   2  96]\n",
      " [ 20  86 100  50   9]\n",
      " [ 50  28  36  64  42]\n",
      " [ 93  50  61  31  96]]\n"
     ]
    }
   ],
   "source": [
    "print(\"Matrix:\")\n",
    "print(matrix)"
   ]
  },
  {
   "cell_type": "code",
   "execution_count": 15,
   "id": "1c0c7ac6",
   "metadata": {},
   "outputs": [
    {
     "name": "stdout",
     "output_type": "stream",
     "text": [
      "Diagonal elements: [ 66  68 100  64  96]\n"
     ]
    }
   ],
   "source": [
    "print(f\"Diagonal elements: {diagonal_elements}\")"
   ]
  },
  {
   "cell_type": "code",
   "execution_count": 16,
   "id": "83c747db",
   "metadata": {},
   "outputs": [
    {
     "name": "stdout",
     "output_type": "stream",
     "text": [
      "Sum of elements above the main diagonal: 400\n"
     ]
    }
   ],
   "source": [
    "print(f\"Sum of elements above the main diagonal: {sum_above_diagonal}\")"
   ]
  },
  {
   "cell_type": "markdown",
   "id": "5bf770f6",
   "metadata": {},
   "source": [
    "q-6"
   ]
  },
  {
   "cell_type": "code",
   "execution_count": 17,
   "id": "8681e74e",
   "metadata": {},
   "outputs": [],
   "source": [
    "array = np.random.rand(3, 4, 5)"
   ]
  },
  {
   "cell_type": "code",
   "execution_count": 18,
   "id": "25f2ab77",
   "metadata": {},
   "outputs": [],
   "source": [
    "mean = np.mean(array)\n",
    "median = np.median(array)\n",
    "std_dev = np.std(array)"
   ]
  },
  {
   "cell_type": "code",
   "execution_count": 19,
   "id": "c87c1eed",
   "metadata": {},
   "outputs": [],
   "source": [
    "normalized_array = (array - mean) / std_dev"
   ]
  },
  {
   "cell_type": "code",
   "execution_count": 20,
   "id": "2a73e7c7",
   "metadata": {},
   "outputs": [
    {
     "name": "stdout",
     "output_type": "stream",
     "text": [
      "Original 3D Array:\n",
      "[[[0.67749871 0.42163828 0.81915386 0.58767087 0.02529489]\n",
      "  [0.06323526 0.64774557 0.35651422 0.72190828 0.54334367]\n",
      "  [0.29340708 0.37238924 0.47183882 0.70743651 0.87976477]\n",
      "  [0.89158569 0.47033254 0.79685322 0.12699495 0.41464774]]\n",
      "\n",
      " [[0.15838469 0.5516434  0.11186519 0.80157872 0.86627595]\n",
      "  [0.92684513 0.11644581 0.40767275 0.46454755 0.81685243]\n",
      "  [0.30138354 0.69924787 0.70099917 0.0536898  0.48053872]\n",
      "  [0.3548485  0.85186133 0.55654967 0.37169425 0.90909947]]\n",
      "\n",
      " [[0.10946685 0.55802372 0.0237589  0.04489845 0.64024948]\n",
      "  [0.74278871 0.45921928 0.84329443 0.75948456 0.89014897]\n",
      "  [0.98136143 0.42942071 0.92834472 0.53624628 0.9160294 ]\n",
      "  [0.1940398  0.32561965 0.97317082 0.43710017 0.14655691]]]\n"
     ]
    }
   ],
   "source": [
    "print(\"Original 3D Array:\")\n",
    "print(array)"
   ]
  },
  {
   "cell_type": "code",
   "execution_count": 21,
   "id": "4dbbd885",
   "metadata": {},
   "outputs": [
    {
     "name": "stdout",
     "output_type": "stream",
     "text": [
      "Mean: 0.5288416892746635\n"
     ]
    }
   ],
   "source": [
    "print(f\"Mean: {mean}\")"
   ]
  },
  {
   "cell_type": "code",
   "execution_count": 22,
   "id": "d9f0432f",
   "metadata": {},
   "outputs": [
    {
     "name": "stdout",
     "output_type": "stream",
     "text": [
      "Median: 0.5397949718428522\n"
     ]
    }
   ],
   "source": [
    "print(f\"Median: {median}\")"
   ]
  },
  {
   "cell_type": "code",
   "execution_count": 23,
   "id": "e249b79e",
   "metadata": {},
   "outputs": [
    {
     "name": "stdout",
     "output_type": "stream",
     "text": [
      "Standard Deviation: 0.2859826531338184\n",
      "Normalized Array:\n",
      "[[[ 0.51981133 -0.37485982  1.01513909  0.20570893 -1.76075994]\n",
      "  [-1.62809326  0.41577304 -0.60258015  0.67509895  0.05070929]\n",
      "  [-0.82324788 -0.54706972 -0.19932282  0.6244953   1.22707821]\n",
      "  [ 1.26841262 -0.20458987  0.93716011 -1.40514377 -0.39930375]]\n",
      "\n",
      " [[-1.29538278  0.07973111 -1.45804823  0.95368382  1.17991162]\n",
      "  [ 1.39170482 -1.44203111 -0.42369333 -0.22481833  1.00709165]\n",
      "  [-0.79535646  0.59586196  0.60198574 -1.661471   -0.16890174]\n",
      "  [-0.60840468  1.12950782  0.09688694 -0.5494999   1.32965332]]\n",
      "\n",
      " [[-1.46643454  0.10204125 -1.76613085 -1.69221185  0.38956136]\n",
      "  [ 0.7481119  -0.24344975  1.09955181  0.80649253  1.26338879]\n",
      "  [ 1.58233283 -0.34764689  1.39694848  0.02589173  1.35388529]\n",
      "  [-1.17070698 -0.71060968  1.55369258 -0.320794   -1.33674114]]]\n"
     ]
    }
   ],
   "source": [
    "print(f\"Standard Deviation: {std_dev}\")\n",
    "print(\"Normalized Array:\")\n",
    "print(normalized_array)"
   ]
  },
  {
   "cell_type": "markdown",
   "id": "2f6eba7f",
   "metadata": {},
   "source": [
    "q-7"
   ]
  },
  {
   "cell_type": "code",
   "execution_count": 24,
   "id": "f0d5a025",
   "metadata": {},
   "outputs": [],
   "source": [
    "array1 = np.random.randint(1, 10, (4, 4))  \n",
    "array2 = np.random.randint(1, 10, (4, 1))"
   ]
  },
  {
   "cell_type": "code",
   "execution_count": 25,
   "id": "0feffeb5",
   "metadata": {},
   "outputs": [],
   "source": [
    "result = array1 + array2"
   ]
  },
  {
   "cell_type": "code",
   "execution_count": 26,
   "id": "1b0ec6e4",
   "metadata": {},
   "outputs": [
    {
     "name": "stdout",
     "output_type": "stream",
     "text": [
      "Array 1 :\n",
      "[[2 3 6 2]\n",
      " [6 7 4 4]\n",
      " [6 5 8 4]\n",
      " [3 6 2 6]]\n",
      "\n",
      "Array 2 :\n",
      "[[2]\n",
      " [3]\n",
      " [5]\n",
      " [7]]\n",
      "\n",
      "Result (Broadcasted Addition):\n",
      "[[ 4  5  8  4]\n",
      " [ 9 10  7  7]\n",
      " [11 10 13  9]\n",
      " [10 13  9 13]]\n"
     ]
    }
   ],
   "source": [
    "print(\"Array 1 :\")\n",
    "print(array1)\n",
    "print(\"\\nArray 2 :\")\n",
    "print(array2)\n",
    "print(\"\\nResult (Broadcasted Addition):\")\n",
    "print(result)"
   ]
  },
  {
   "cell_type": "markdown",
   "id": "472f8216",
   "metadata": {},
   "source": [
    "q-8"
   ]
  },
  {
   "cell_type": "code",
   "execution_count": 27,
   "id": "c14fe39d",
   "metadata": {},
   "outputs": [],
   "source": [
    "data = {\n",
    "    \"Product\": [\"A\", \"B\", \"C\", \"D\", \"E\", \"F\", \"G\", \"H\"],\n",
    "    \"Price\": [10, 15, 7, 12, 8, 20, 5, 18],\n",
    "    \"Quantity\": [100, 50, 120, 80, 90, 30, 150, 40]\n",
    "}"
   ]
  },
  {
   "cell_type": "code",
   "execution_count": 28,
   "id": "bc9cae0b",
   "metadata": {},
   "outputs": [],
   "source": [
    "df = pd.DataFrame(data)"
   ]
  },
  {
   "cell_type": "code",
   "execution_count": 29,
   "id": "71495ea8",
   "metadata": {},
   "outputs": [],
   "source": [
    "df[\"Total Value\"] = df[\"Price\"] * df[\"Quantity\"]"
   ]
  },
  {
   "cell_type": "code",
   "execution_count": 30,
   "id": "2aea44ed",
   "metadata": {},
   "outputs": [],
   "source": [
    "df_sorted = df.sort_values(by=\"Total Value\", ascending=False)"
   ]
  },
  {
   "cell_type": "code",
   "execution_count": 31,
   "id": "eac395c9",
   "metadata": {},
   "outputs": [
    {
     "name": "stdout",
     "output_type": "stream",
     "text": [
      "DataFrame Sorted by Total Value:\n",
      "  Product  Price  Quantity  Total Value\n",
      "0       A     10       100         1000\n",
      "3       D     12        80          960\n",
      "2       C      7       120          840\n",
      "1       B     15        50          750\n",
      "6       G      5       150          750\n",
      "4       E      8        90          720\n",
      "7       H     18        40          720\n",
      "5       F     20        30          600\n"
     ]
    }
   ],
   "source": [
    "print(\"DataFrame Sorted by Total Value:\")\n",
    "print(df_sorted)"
   ]
  },
  {
   "cell_type": "markdown",
   "id": "be63536a",
   "metadata": {},
   "source": [
    "q-9"
   ]
  },
  {
   "cell_type": "code",
   "execution_count": 32,
   "id": "4c54bc89",
   "metadata": {},
   "outputs": [
    {
     "name": "stdout",
     "output_type": "stream",
     "text": [
      "Error: The file at path/to/your/titanic.csv could not be found.\n"
     ]
    }
   ],
   "source": [
    "import pandas as pd\n",
    "\n",
    "titanic_file_path = \"path/to/your/titanic.csv\"  \n",
    "try:\n",
    "    titanic_df = pd.read_csv(titanic_file_path)\n",
    "    \n",
    "    under_18 = titanic_df[titanic_df['Age'] < 18]\n",
    "    print(\"Passengers below 18 years of age:\")\n",
    "    print(under_18)\n",
    "\n",
    "    female_survivors = titanic_df[(titanic_df['Sex'] == 'female') & (titanic_df['Survived'] == 1)]\n",
    "    print(\"\\nFemale passengers who survived:\")\n",
    "    print(female_survivors)\n",
    "\n",
    "except FileNotFoundError:\n",
    "    print(f\"Error: The file at {titanic_file_path} could not be found.\")\n"
   ]
  },
  {
   "cell_type": "markdown",
   "id": "2309881a",
   "metadata": {},
   "source": [
    "q-10\n"
   ]
  },
  {
   "cell_type": "code",
   "execution_count": 33,
   "id": "13215aa4",
   "metadata": {},
   "outputs": [
    {
     "name": "stdout",
     "output_type": "stream",
     "text": [
      "            petal_length  sepal_width\n",
      "species                              \n",
      "setosa             1.462        3.428\n",
      "versicolor         4.260        2.770\n",
      "virginica          5.552        2.974\n"
     ]
    }
   ],
   "source": [
    "import seaborn as sns\n",
    "\n",
    "iris_df = sns.load_dataset('iris')\n",
    "\n",
    "grouped_df = iris_df.groupby('species')[['petal_length', 'sepal_width']].mean()\n",
    "print(grouped_df)\n"
   ]
  },
  {
   "cell_type": "markdown",
   "id": "5bf615d1",
   "metadata": {},
   "source": [
    "q-11"
   ]
  },
  {
   "cell_type": "code",
   "execution_count": 34,
   "id": "7253dd72",
   "metadata": {},
   "outputs": [],
   "source": [
    "data = {\n",
    "    'A': np.random.randint(1, 10, size=5),\n",
    "    'B': np.random.randint(1, 10, size=5),\n",
    "    'C': np.random.randint(1, 10, size=5)\n",
    "}\n",
    "df = pd.DataFrame(data)"
   ]
  },
  {
   "cell_type": "code",
   "execution_count": 35,
   "id": "bc68447d",
   "metadata": {},
   "outputs": [],
   "source": [
    "df.iloc[1, 0] = np.nan  \n",
    "df.iloc[3, 1] = np.nan \n",
    "df.iloc[4, 2] = np.nan  "
   ]
  },
  {
   "cell_type": "code",
   "execution_count": 36,
   "id": "4c958d8e",
   "metadata": {
    "scrolled": true
   },
   "outputs": [
    {
     "name": "stdout",
     "output_type": "stream",
     "text": [
      "DataFrame with NaN values:\n",
      "     A    B    C\n",
      "0  9.0  2.0  6.0\n",
      "1  NaN  3.0  2.0\n",
      "2  2.0  6.0  6.0\n",
      "3  4.0  NaN  5.0\n",
      "4  3.0  8.0  NaN\n"
     ]
    }
   ],
   "source": [
    "print(\"DataFrame with NaN values:\")\n",
    "print(df)"
   ]
  },
  {
   "cell_type": "code",
   "execution_count": 37,
   "id": "abed7ea4",
   "metadata": {},
   "outputs": [],
   "source": [
    "df.fillna(df.mean(), inplace=True)\n"
   ]
  },
  {
   "cell_type": "code",
   "execution_count": 38,
   "id": "d6b2a7d0",
   "metadata": {},
   "outputs": [
    {
     "name": "stdout",
     "output_type": "stream",
     "text": [
      "\n",
      "DataFrame after replacing NaN values with column mean:\n",
      "     A     B     C\n",
      "0  9.0  2.00  6.00\n",
      "1  4.5  3.00  2.00\n",
      "2  2.0  6.00  6.00\n",
      "3  4.0  4.75  5.00\n",
      "4  3.0  8.00  4.75\n"
     ]
    }
   ],
   "source": [
    "print(\"\\nDataFrame after replacing NaN values with column mean:\")\n",
    "print(df)"
   ]
  },
  {
   "cell_type": "markdown",
   "id": "dc3d30d3",
   "metadata": {},
   "source": [
    "q-12"
   ]
  },
  {
   "cell_type": "code",
   "execution_count": 39,
   "id": "90dd3f54",
   "metadata": {},
   "outputs": [],
   "source": [
    "data1 = {\n",
    "    'ID': [1, 2, 3, 4, 5],\n",
    "    'Name': ['Rahul', 'Aryan', 'Arsh', 'prince', 'Aditya']\n",
    "}"
   ]
  },
  {
   "cell_type": "code",
   "execution_count": 40,
   "id": "ca596203",
   "metadata": {},
   "outputs": [],
   "source": [
    "df1 = pd.DataFrame(data1)"
   ]
  },
  {
   "cell_type": "code",
   "execution_count": 41,
   "id": "87bc6b2b",
   "metadata": {},
   "outputs": [],
   "source": [
    "data2 = {\n",
    "    'ID': [1, 2, 3, 4, 6],\n",
    "    'Score': [85, 92, 78, 88, 90]\n",
    "}\n",
    "df2 = pd.DataFrame(data2)"
   ]
  },
  {
   "cell_type": "code",
   "execution_count": 42,
   "id": "eea42570",
   "metadata": {},
   "outputs": [],
   "source": [
    "merged_df = pd.merge(df1, df2, on='ID', how='inner')"
   ]
  },
  {
   "cell_type": "code",
   "execution_count": 43,
   "id": "1e0e4554",
   "metadata": {},
   "outputs": [
    {
     "name": "stdout",
     "output_type": "stream",
     "text": [
      "   ID    Name  Score\n",
      "0   1   Rahul     85\n",
      "1   2   Aryan     92\n",
      "2   3    Arsh     78\n",
      "3   4  prince     88\n"
     ]
    }
   ],
   "source": [
    "print(merged_df)"
   ]
  },
  {
   "cell_type": "markdown",
   "id": "305ef0c1",
   "metadata": {},
   "source": [
    "q-13"
   ]
  },
  {
   "cell_type": "code",
   "execution_count": 44,
   "id": "e0c5a1f5",
   "metadata": {},
   "outputs": [],
   "source": [
    "import matplotlib.pyplot as plt"
   ]
  },
  {
   "cell_type": "code",
   "execution_count": 45,
   "id": "74d30d91",
   "metadata": {},
   "outputs": [],
   "source": [
    "months = np.array(['Jan', 'Feb', 'Mar', 'Apr', 'May', 'Jun', 'Jul', 'Aug', 'Sep', 'Oct', 'Nov', 'Dec'])\n",
    "revenue = np.random.randint(50, 200, size=12)"
   ]
  },
  {
   "cell_type": "code",
   "execution_count": 46,
   "id": "31f23b26",
   "metadata": {},
   "outputs": [
    {
     "data": {
      "text/plain": [
       "[<matplotlib.lines.Line2D at 0x16c38b2d0>]"
      ]
     },
     "execution_count": 46,
     "metadata": {},
     "output_type": "execute_result"
    },
    {
     "data": {
      "image/png": "[encoded data removed]",
      "text/plain": [
       "<Figure size 1000x600 with 1 Axes>"
      ]
     },
     "metadata": {},
     "output_type": "display_data"
    }
   ],
   "source": [
    "plt.figure(figsize=(10, 6))\n",
    "plt.plot(months, revenue, marker='o', label='Revenue', color='b')"
   ]
  },
  {
   "cell_type": "code",
   "execution_count": 47,
   "id": "0b969ad2",
   "metadata": {},
   "outputs": [
    {
     "name": "stderr",
     "output_type": "stream",
     "text": [
      "No artists with labels found to put in legend.  Note that artists whose label start with an underscore are ignored when legend() is called with no argument.\n"
     ]
    },
    {
     "data": {
      "image/png": "[encoded data removed]",
      "text/plain": [
       "<Figure size 640x480 with 1 Axes>"
      ]
     },
     "metadata": {},
     "output_type": "display_data"
    }
   ],
   "source": [
    "plt.title('Monthly Revenue Trend')\n",
    "plt.xlabel('Month')\n",
    "plt.ylabel('Revenue (in thousands)')\n",
    "plt.legend()\n",
    "plt.show()"
   ]
  },
  {
   "cell_type": "markdown",
   "id": "4300a225",
   "metadata": {},
   "source": [
    "q-14"
   ]
  },
  {
   "cell_type": "code",
   "execution_count": 48,
   "id": "2a6891ca",
   "metadata": {},
   "outputs": [],
   "source": [
    "products = ['Product A', 'Product B', 'Product C', 'Product D', 'Product E']\n",
    "region1_sales = [150, 200, 120, 250, 180]\n",
    "region2_sales = [130, 180, 110, 220, 170]\n"
   ]
  },
  {
   "cell_type": "code",
   "execution_count": 49,
   "id": "f3e07632",
   "metadata": {},
   "outputs": [],
   "source": [
    "bar_width = 0.35"
   ]
  },
  {
   "cell_type": "code",
   "execution_count": 50,
   "id": "b3ebe5ce",
   "metadata": {},
   "outputs": [],
   "source": [
    "index = np.arange(len(products))"
   ]
  },
  {
   "cell_type": "code",
   "execution_count": 51,
   "id": "b5631b1e",
   "metadata": {},
   "outputs": [
    {
     "data": {
      "image/png": "[encoded data removed]",
      "text/plain": [
       "<Figure size 1000x600 with 1 Axes>"
      ]
     },
     "metadata": {},
     "output_type": "display_data"
    }
   ],
   "source": [
    "fig, ax = plt.subplots(figsize=(10, 6))"
   ]
  },
  {
   "cell_type": "code",
   "execution_count": 52,
   "id": "6c1b48d8",
   "metadata": {},
   "outputs": [],
   "source": [
    "bars1 = ax.bar(index, region1_sales, bar_width, label='Region 1', color='skyblue')\n",
    "bars2 = ax.bar(index + bar_width, region2_sales, bar_width, label='Region 2', color='salmon')"
   ]
  },
  {
   "cell_type": "code",
   "execution_count": 53,
   "id": "1bef5d54",
   "metadata": {},
   "outputs": [
    {
     "data": {
      "text/plain": [
       "[Text(0.175, 0, 'Product A'),\n",
       " Text(1.175, 0, 'Product B'),\n",
       " Text(2.175, 0, 'Product C'),\n",
       " Text(3.175, 0, 'Product D'),\n",
       " Text(4.175, 0, 'Product E')]"
      ]
     },
     "execution_count": 53,
     "metadata": {},
     "output_type": "execute_result"
    }
   ],
   "source": [
    "ax.set_xlabel('Products')\n",
    "ax.set_ylabel('Sales')\n",
    "ax.set_title('Sales Comparison Between Regions for Each Product')\n",
    "ax.set_xticks(index + bar_width / 2)\n",
    "ax.set_xticklabels(products)"
   ]
  },
  {
   "cell_type": "code",
   "execution_count": 54,
   "id": "af3df36d",
   "metadata": {},
   "outputs": [
    {
     "data": {
      "text/plain": [
       "<Figure size 640x480 with 0 Axes>"
      ]
     },
     "metadata": {},
     "output_type": "display_data"
    }
   ],
   "source": [
    "ax.legend()\n",
    "plt.tight_layout()\n",
    "plt.show()"
   ]
  },
  {
   "cell_type": "markdown",
   "id": "e97958e0",
   "metadata": {},
   "source": [
    "q-15"
   ]
  },
  {
   "cell_type": "code",
   "execution_count": 55,
   "id": "3badb40c",
   "metadata": {},
   "outputs": [],
   "source": [
    "iris = sns.load_dataset('iris')\n"
   ]
  },
  {
   "cell_type": "code",
   "execution_count": 56,
   "id": "6b5974ee",
   "metadata": {},
   "outputs": [
    {
     "data": {
      "text/plain": [
       "<Figure size 800x600 with 0 Axes>"
      ]
     },
     "execution_count": 56,
     "metadata": {},
     "output_type": "execute_result"
    },
    {
     "data": {
      "text/plain": [
       "<Figure size 800x600 with 0 Axes>"
      ]
     },
     "metadata": {},
     "output_type": "display_data"
    }
   ],
   "source": [
    "plt.figure(figsize=(8, 6))"
   ]
  },
  {
   "cell_type": "code",
   "execution_count": 57,
   "id": "c6c23025",
   "metadata": {},
   "outputs": [
    {
     "data": {
      "text/plain": [
       "<Axes: xlabel='petal_length', ylabel='petal_width'>"
      ]
     },
     "execution_count": 57,
     "metadata": {},
     "output_type": "execute_result"
    },
    {
     "data": {
      "image/png": "[encoded data removed]",
      "text/plain": [
       "<Figure size 640x480 with 1 Axes>"
      ]
     },
     "metadata": {},
     "output_type": "display_data"
    }
   ],
   "source": [
    "sns.scatterplot(x='petal_length', y='petal_width', hue='species', data=iris, palette='Set1')\n"
   ]
  },
  {
   "cell_type": "code",
   "execution_count": 58,
   "id": "e4cf4f6e",
   "metadata": {},
   "outputs": [
    {
     "name": "stderr",
     "output_type": "stream",
     "text": [
      "No artists with labels found to put in legend.  Note that artists whose label start with an underscore are ignored when legend() is called with no argument.\n"
     ]
    },
    {
     "data": {
      "image/png": "[encoded data removed]",
      "text/plain": [
       "<Figure size 640x480 with 1 Axes>"
      ]
     },
     "metadata": {},
     "output_type": "display_data"
    }
   ],
   "source": [
    "plt.title('Petal Length vs Petal Width of Iris Flowers', fontsize=16)\n",
    "plt.xlabel('Petal Length (cm)', fontsize=14)\n",
    "plt.ylabel('Petal Width (cm)', fontsize=14)\n",
    "plt.legend(title='Species', title_fontsize='13', fontsize='11')\n",
    "\n",
    "plt.tight_layout()\n",
    "plt.show()"
   ]
  },
  {
   "cell_type": "markdown",
   "id": "d98462f4",
   "metadata": {},
   "source": [
    "☺️"
   ]
  },
  {
   "cell_type": "code",
   "execution_count": null,
   "id": "2923df9d",
   "metadata": {},
   "outputs": [],
   "source": []
  }
 ],
 "metadata": {
  "kernelspec": {
   "display_name": "Python 3 (ipykernel)",
   "language": "python",
   "name": "python3"
  },
  "language_info": {
   "codemirror_mode": {
    "name": "ipython",
    "version": 3
   },
   "file_extension": ".py",
   "mimetype": "text/x-python",
   "name": "python",
   "nbconvert_exporter": "python",
   "pygments_lexer": "ipython3",
   "version": "3.11.7"
  }
 },
 "nbformat": 4,
 "nbformat_minor": 5
}
